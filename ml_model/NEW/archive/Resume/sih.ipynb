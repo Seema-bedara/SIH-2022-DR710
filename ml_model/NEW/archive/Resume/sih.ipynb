{
 "cells": [
  {
   "cell_type": "code",
   "execution_count": 1,
   "metadata": {},
   "outputs": [
    {
     "name": "stderr",
     "output_type": "stream",
     "text": [
      "[nltk_data] Downloading package stopwords to\n",
      "[nltk_data]     C:\\Users\\A\\AppData\\Roaming\\nltk_data...\n",
      "[nltk_data]   Package stopwords is already up-to-date!\n",
      "[nltk_data] Downloading package punkt to\n",
      "[nltk_data]     C:\\Users\\A\\AppData\\Roaming\\nltk_data...\n",
      "[nltk_data]   Package punkt is already up-to-date!\n"
     ]
    },
    {
     "name": "stdout",
     "output_type": "stream",
     "text": [
      "[0]\n",
      "[[0.19160491 0.03755732 0.05038132 0.02471628 0.03647145 0.02165753\n",
      "  0.06243309 0.03816847 0.06722373 0.02030622 0.02158912 0.02225586\n",
      "  0.04905076 0.01957256 0.03264372 0.0736235  0.02983345 0.01611486\n",
      "  0.02461037 0.01404617 0.02879859 0.02578747 0.02494024 0.04709662\n",
      "  0.01951642]]\n"
     ]
    }
   ],
   "source": [
    "import joblib\n",
    "from scipy.sparse import hstack\n",
    "from sklearn.feature_extraction.text import TfidfVectorizer\n",
    "from sklearn.model_selection import train_test_split\n",
    "import re\n",
    "from sklearn.preprocessing import LabelEncoder\n",
    "from wordcloud import WordCloud\n",
    "import string\n",
    "from nltk.corpus import stopwords\n",
    "import nltk\n",
    "from sklearn.multiclass import OneVsRestClassifier\n",
    "from sklearn.naive_bayes import MultinomialNB\n",
    "from sklearn.neighbors import KNeighborsClassifier\n",
    "from pandas.plotting import scatter_matrix\n",
    "from sklearn.metrics import accuracy_score\n",
    "from sklearn import metrics\n",
    "import pandas as pd\n",
    "import numpy as np\n",
    "import pandas as pd\n",
    "import os\n",
    "import seaborn as sns\n",
    "import warnings\n",
    "warnings.filterwarnings('ignore')\n",
    "nltk.download('stopwords')\n",
    "nltk.download('punkt')\n",
    "\n",
    "\n",
    "resumeData = pd.read_csv('UpdatedResumeDataSet.csv', encoding='utf-8')\n",
    "# resumeData.head()\n",
    "\n",
    "\n",
    "var_mod = ['Category']\n",
    "le = LabelEncoder()\n",
    "for i in var_mod:\n",
    "    resumeData[i] = le.fit_transform(resumeData[i])\n",
    "\n",
    "\n",
    "inp_data = input(\"Enter resume: \")\n",
    "data = {\"Resume\": [inp_data]}\n",
    "dataf = pd.DataFrame(data)\n",
    "dataf['structured_resume'] = ''\n",
    "\n",
    "\n",
    "def clean_resume(Text):\n",
    "    Text = re.sub('http\\S+\\s*', ' ', Text)\n",
    "    Text = re.sub('@\\S+', '  ', Text)\n",
    "    Text = re.sub('[%s]' % re.escape(\n",
    "        \"\"\"!\"#$%&'()*+,-./:;<=>?@[\\]^_`{|}~\"\"\"), ' ', Text)\n",
    "    Text = re.sub('RT|cc', ' ', Text)\n",
    "    Text = re.sub('#\\S+', '', Text)\n",
    "    Text = re.sub(r'[^\\x00-\\x7f]', r' ', Text)\n",
    "    Text = re.sub('\\s+', ' ', Text)\n",
    "    return Text\n",
    "\n",
    "\n",
    "dataf['structured_resume'] = dataf.Resume.apply(lambda x: clean_resume(x))\n",
    "\n",
    "# clean_input = inp_data(lambda x: clean_input(x))\n",
    "Set_Of_StopWords = set(stopwords.words('english')+['``', \"''\"])\n",
    "total_Words = []\n",
    "Sentences = dataf['Resume'].values\n",
    "cleaned_Sentences = \"\"\n",
    "for i in range(0, len(Sentences)):\n",
    "    cleanedText = clean_resume(Sentences[i])\n",
    "    cleaned_Sentences += cleanedText\n",
    "    requiredWords = nltk.word_tokenize(cleanedText)\n",
    "    for word in requiredWords:\n",
    "        if word not in Set_Of_StopWords and word not in string.punctuation:\n",
    "            total_Words.append(word)\n",
    "\n",
    "\n",
    "wordfrequencydist = nltk.FreqDist(total_Words)\n",
    "mostCommon = wordfrequencydist.most_common(50)\n",
    "# print(mostCommon)\n",
    "required_Text = dataf['structured_resume'].values\n",
    "# required_Target = resumeData['Category'].values\n",
    "word_vectorizer = joblib.load('model1_vec.pkl')\n",
    "# word_vectorizer = TfidfVectorizer(sublinear_tf=True, stop_words='english', max_features=1500)\n",
    "required_Text = required_Text[~pd.isnull(required_Text)]\n",
    "WordFeatures = word_vectorizer.transform(required_Text)\n",
    "# print(WordFeatures.shape)   \n",
    "\n",
    "clf = joblib.load('model.pkl')\n",
    "predicted = clf.predict(WordFeatures)\n",
    "print(predicted)\n",
    "\n",
    "prob = clf.predict_proba(WordFeatures)\n",
    "print(prob)"
   ]
  },
  {
   "cell_type": "code",
   "execution_count": 2,
   "metadata": {},
   "outputs": [],
   "source": [
    "list_prob = prob[0]"
   ]
  },
  {
   "cell_type": "code",
   "execution_count": 3,
   "metadata": {},
   "outputs": [
    {
     "data": {
      "text/plain": [
       "array([0.19160491, 0.03755732, 0.05038132, 0.02471628, 0.03647145,\n",
       "       0.02165753, 0.06243309, 0.03816847, 0.06722373, 0.02030622,\n",
       "       0.02158912, 0.02225586, 0.04905076, 0.01957256, 0.03264372,\n",
       "       0.0736235 , 0.02983345, 0.01611486, 0.02461037, 0.01404617,\n",
       "       0.02879859, 0.02578747, 0.02494024, 0.04709662, 0.01951642])"
      ]
     },
     "execution_count": 3,
     "metadata": {},
     "output_type": "execute_result"
    }
   ],
   "source": [
    "list_prob"
   ]
  },
  {
   "cell_type": "code",
   "execution_count": null,
   "metadata": {},
   "outputs": [],
   "source": []
  }
 ],
 "metadata": {
  "kernelspec": {
   "display_name": "Python 3.7.13 ('pytorch')",
   "language": "python",
   "name": "python3"
  },
  "language_info": {
   "codemirror_mode": {
    "name": "ipython",
    "version": 3
   },
   "file_extension": ".py",
   "mimetype": "text/x-python",
   "name": "python",
   "nbconvert_exporter": "python",
   "pygments_lexer": "ipython3",
   "version": "3.7.13"
  },
  "orig_nbformat": 4,
  "vscode": {
   "interpreter": {
    "hash": "7a3f2c80ea66c24fd76a9a71a25558c52fee05a6e45793e0a26745819a7b6b51"
   }
  }
 },
 "nbformat": 4,
 "nbformat_minor": 2
}
