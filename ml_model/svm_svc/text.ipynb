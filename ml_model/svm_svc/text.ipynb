{
 "cells": [
  {
   "cell_type": "code",
   "execution_count": 7,
   "metadata": {},
   "outputs": [],
   "source": [
    "import pandas as pd\n"
   ]
  },
  {
   "cell_type": "code",
   "execution_count": 8,
   "metadata": {},
   "outputs": [],
   "source": [
    "df = pd.DataFrame(pd.read_excel('try.xlsx'))"
   ]
  },
  {
   "cell_type": "code",
   "execution_count": 9,
   "metadata": {},
   "outputs": [],
   "source": [
    "data1 = df['Resume'][7]"
   ]
  },
  {
   "cell_type": "code",
   "execution_count": 10,
   "metadata": {},
   "outputs": [],
   "source": [
    "liststr = list(data1)\n",
    "for i in range(0, len(liststr)):\n",
    "    if liststr[i] == '\\n':\n",
    "        liststr[i] = ' '"
   ]
  },
  {
   "cell_type": "code",
   "execution_count": 11,
   "metadata": {},
   "outputs": [],
   "source": [
    "data2 = ''.join(liststr)"
   ]
  },
  {
   "cell_type": "code",
   "execution_count": 12,
   "metadata": {},
   "outputs": [
    {
     "data": {
      "text/plain": [
       "'Profile Passionate and Professional Sports Coach with a dynamic background including High School coachin, group work, private training. Knowledgeable about various Sports and adept in planning and implementing effective coaching plans. Seeking a position in Sports where I can best utilize my knowledge and passion. Employment History Assistant Director of Sports Department at Great Neck High School, New York September 2017- December 2020 Helped to manage the Sports Department, including budgets, planning, and curriculum. Oversaw Coaches and aimed to achieve a cohesive and strong sports program. Researched sports techniques and the latest training methods to implement into programs. Worked with Coaches, Administrators, and Athletes to achieve goals. Brought forth a spirit and enthusiasm for good sportsmanship.Assistant Sports Manager at Bomba League, New York May 2015-July 2017 Aided the Head of Sports in creating and managing a powerful and respected Sports Program. Worked with administrators and coaches to achieve desired goals. Brought forth a love of Sports and a commitment to helping athletes achieve personal goals Education Bachelor of Sports Management, Nassau Community College, Garden City September 2015-May 2017 High School Diploma, Nyack High School, Nyack September 2011 May 2015'"
      ]
     },
     "execution_count": 12,
     "metadata": {},
     "output_type": "execute_result"
    }
   ],
   "source": [
    "data2"
   ]
  },
  {
   "cell_type": "code",
   "execution_count": null,
   "metadata": {},
   "outputs": [],
   "source": []
  }
 ],
 "metadata": {
  "kernelspec": {
   "display_name": "Python 3.7.13 ('pytorch')",
   "language": "python",
   "name": "python3"
  },
  "language_info": {
   "codemirror_mode": {
    "name": "ipython",
    "version": 3
   },
   "file_extension": ".py",
   "mimetype": "text/x-python",
   "name": "python",
   "nbconvert_exporter": "python",
   "pygments_lexer": "ipython3",
   "version": "3.7.13"
  },
  "orig_nbformat": 4,
  "vscode": {
   "interpreter": {
    "hash": "7a3f2c80ea66c24fd76a9a71a25558c52fee05a6e45793e0a26745819a7b6b51"
   }
  }
 },
 "nbformat": 4,
 "nbformat_minor": 2
}
