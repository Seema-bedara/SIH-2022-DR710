{
 "cells": [
  {
   "cell_type": "code",
   "execution_count": 30,
   "metadata": {},
   "outputs": [
    {
     "name": "stdout",
     "output_type": "stream",
     "text": [
      "[14]\n",
      "------------------------------------------------------------------------\n",
      "                     Health and fitness (Best option)\n",
      "------------------------------------------------------------------------\n",
      "[[0.06142144 0.05318497 0.05409536 0.02348938 0.03447552 0.02209005\n",
      "  0.05837921 0.04476705 0.06413491 0.02218189 0.02250164 0.02432091\n",
      "  0.0539196  0.02097129 0.08637143 0.10099405 0.03269328 0.01609506\n",
      "  0.01869431 0.0108656  0.03131672 0.02778854 0.0266299  0.06492651\n",
      "  0.02369136]]\n"
     ]
    }
   ],
   "source": [
    "import joblib\n",
    "from scipy.sparse import hstack\n",
    "from sklearn.feature_extraction.text import TfidfVectorizer\n",
    "from sklearn.model_selection import train_test_split\n",
    "import re\n",
    "from sklearn.preprocessing import LabelEncoder\n",
    "from wordcloud import WordCloud\n",
    "import string\n",
    "from nltk.corpus import stopwords\n",
    "import nltk\n",
    "from sklearn.multiclass import OneVsRestClassifier\n",
    "from sklearn.naive_bayes import MultinomialNB\n",
    "from sklearn.neighbors import KNeighborsClassifier\n",
    "from pandas.plotting import scatter_matrix\n",
    "from sklearn.metrics import accuracy_score\n",
    "from sklearn import metrics\n",
    "import pandas as pd\n",
    "import numpy as np\n",
    "import pandas as pd\n",
    "import os\n",
    "import seaborn as sns\n",
    "import warnings\n",
    "\n",
    "dict_job = {\n",
    "    \"Data Science\":  6,\n",
    "    \"HR\": 12,\n",
    "    \"Advocate\":  0,\n",
    "    \"Arts\":  1,\n",
    "    \"Web Designing\": 24,\n",
    "    \"Mechanical Engineer\": 16,\n",
    "    \"Sales\": 22,\n",
    "    \"Health and fitness\": 14,\n",
    "    \"Civil Engineer\":  5,\n",
    "    \"Software Engineer\": 15,\n",
    "    \"Business Analyst\":  4,\n",
    "    \"SAP Developer\": 21,\n",
    "    \"Automation Testing\":  2,\n",
    "    \"Electrical Engineering\": 11,\n",
    "    \"Operations Manager\": 18,\n",
    "    \"Python Developer\": 20,\n",
    "    \"DevOps Engineer\":  8,\n",
    "    \"Network Security Engineer\": 17,\n",
    "    \"PMO\": 19,\n",
    "    \"Database\":  7,\n",
    "    \"Hadoop\": 13,\n",
    "    \"ETL Developer\": 10,\n",
    "    \"DotNet Developer\":  9,\n",
    "    \"Blockchain\":  3,\n",
    "    \"Testing\": 23\n",
    "\n",
    "}\n",
    "\n",
    "\n",
    "inp_data = input(\"Enter resume: \")\n",
    "data = {\"Resume\": [inp_data]}\n",
    "dataf = pd.DataFrame(data)\n",
    "dataf['structured_resume'] = ''\n",
    "\n",
    "\n",
    "def clean_resume(Text):\n",
    "    Text = re.sub('http\\S+\\s*', ' ', Text)\n",
    "    Text = re.sub('@\\S+', '  ', Text)\n",
    "    Text = re.sub('[%s]' % re.escape(\n",
    "        \"\"\"!\"#$%&'()*+,-./:;<=>?@[\\]^_`{|}~\"\"\"), ' ', Text)\n",
    "    Text = re.sub('RT|cc', ' ', Text)\n",
    "    Text = re.sub('#\\S+', '', Text)\n",
    "    Text = re.sub(r'[^\\x00-\\x7f]', r' ', Text)\n",
    "    Text = re.sub('\\s+', ' ', Text)\n",
    "    return Text\n",
    "\n",
    "\n",
    "dataf['structured_resume'] = dataf.Resume.apply(lambda x: clean_resume(x))\n",
    "\n",
    "Set_Of_StopWords = set(stopwords.words('english')+['``', \"''\"])\n",
    "total_Words = []\n",
    "Sentences = dataf['Resume'].values\n",
    "cleaned_Sentences = \"\"\n",
    "for i in range(0, len(Sentences)):\n",
    "    cleanedText = clean_resume(Sentences[i])\n",
    "    cleaned_Sentences += cleanedText\n",
    "    requiredWords = nltk.word_tokenize(cleanedText)\n",
    "    for word in requiredWords:\n",
    "        if word not in Set_Of_StopWords and word not in string.punctuation:\n",
    "            total_Words.append(word)\n",
    "\n",
    "\n",
    "required_Text = dataf['structured_resume'].values\n",
    "word_vectorizer = joblib.load('model1_vec.pkl')\n",
    "required_Text = required_Text[~pd.isnull(required_Text)]\n",
    "WordFeatures = word_vectorizer.transform(required_Text)\n",
    "\n",
    "clf = joblib.load('model.pkl')\n",
    "predicted = clf.predict(WordFeatures)\n",
    "print(predicted)\n",
    "new_val = predicted\n",
    "result= [new_k for new_k in dict_job.items() if new_k[1] == new_val][0][0]\n",
    "print(\"------------------------------------------------------------------------\")\n",
    "print(\"                    \",result,\"(Best option)\")\n",
    "print(\"------------------------------------------------------------------------\")\n",
    "\n",
    "\n",
    "prob = clf.predict_proba(WordFeatures)\n",
    "print(prob)"
   ]
  },
  {
   "cell_type": "code",
   "execution_count": 31,
   "metadata": {},
   "outputs": [],
   "source": [
    "list_prob = prob[0]"
   ]
  },
  {
   "cell_type": "code",
   "execution_count": 32,
   "metadata": {},
   "outputs": [
    {
     "data": {
      "text/plain": [
       "array([0.06142144, 0.05318497, 0.05409536, 0.02348938, 0.03447552,\n",
       "       0.02209005, 0.05837921, 0.04476705, 0.06413491, 0.02218189,\n",
       "       0.02250164, 0.02432091, 0.0539196 , 0.02097129, 0.08637143,\n",
       "       0.10099405, 0.03269328, 0.01609506, 0.01869431, 0.0108656 ,\n",
       "       0.03131672, 0.02778854, 0.0266299 , 0.06492651, 0.02369136])"
      ]
     },
     "execution_count": 32,
     "metadata": {},
     "output_type": "execute_result"
    }
   ],
   "source": [
    "list_prob"
   ]
  },
  {
   "cell_type": "code",
   "execution_count": 33,
   "metadata": {},
   "outputs": [],
   "source": [
    "proba = {}\n",
    "for i in range(0, len(list_prob)):\n",
    "    proba[i] = list_prob[i]"
   ]
  },
  {
   "cell_type": "code",
   "execution_count": 34,
   "metadata": {},
   "outputs": [
    {
     "data": {
      "text/plain": [
       "{0: 0.061421444423621394,\n",
       " 1: 0.05318497092665844,\n",
       " 2: 0.05409536171025172,\n",
       " 3: 0.02348938334613972,\n",
       " 4: 0.03447552498084667,\n",
       " 5: 0.02209005016953431,\n",
       " 6: 0.05837921102502321,\n",
       " 7: 0.04476705018754747,\n",
       " 8: 0.06413490574677398,\n",
       " 9: 0.022181890604642554,\n",
       " 10: 0.0225016439420073,\n",
       " 11: 0.024320913797734278,\n",
       " 12: 0.05391960058026295,\n",
       " 13: 0.020971291390796405,\n",
       " 14: 0.0863714294746775,\n",
       " 15: 0.10099404542250733,\n",
       " 16: 0.03269328311599199,\n",
       " 17: 0.016095056714939812,\n",
       " 18: 0.01869431317275416,\n",
       " 19: 0.010865600866092392,\n",
       " 20: 0.03131671549699552,\n",
       " 21: 0.027788540820836705,\n",
       " 22: 0.0266298971256606,\n",
       " 23: 0.06492651096158784,\n",
       " 24: 0.023691363996115423}"
      ]
     },
     "execution_count": 34,
     "metadata": {},
     "output_type": "execute_result"
    }
   ],
   "source": [
    "proba"
   ]
  },
  {
   "cell_type": "code",
   "execution_count": 35,
   "metadata": {},
   "outputs": [
    {
     "data": {
      "text/plain": [
       "0.05391960058026295"
      ]
     },
     "execution_count": 35,
     "metadata": {},
     "output_type": "execute_result"
    }
   ],
   "source": [
    "proba[12]"
   ]
  },
  {
   "cell_type": "code",
   "execution_count": 36,
   "metadata": {},
   "outputs": [
    {
     "data": {
      "text/plain": [
       "{0: 0.061421444423621394,\n",
       " 1: 0.05318497092665844,\n",
       " 2: 0.05409536171025172,\n",
       " 3: 0.02348938334613972,\n",
       " 4: 0.03447552498084667,\n",
       " 5: 0.02209005016953431,\n",
       " 6: 0.05837921102502321,\n",
       " 7: 0.04476705018754747,\n",
       " 8: 0.06413490574677398,\n",
       " 9: 0.022181890604642554,\n",
       " 10: 0.0225016439420073,\n",
       " 11: 0.024320913797734278,\n",
       " 12: 0.05391960058026295,\n",
       " 13: 0.020971291390796405,\n",
       " 14: 0.0863714294746775,\n",
       " 15: 0.10099404542250733,\n",
       " 16: 0.03269328311599199,\n",
       " 17: 0.016095056714939812,\n",
       " 18: 0.01869431317275416,\n",
       " 19: 0.010865600866092392,\n",
       " 20: 0.03131671549699552,\n",
       " 21: 0.027788540820836705,\n",
       " 22: 0.0266298971256606,\n",
       " 23: 0.06492651096158784,\n",
       " 24: 0.023691363996115423}"
      ]
     },
     "execution_count": 36,
     "metadata": {},
     "output_type": "execute_result"
    }
   ],
   "source": [
    "proba"
   ]
  },
  {
   "cell_type": "code",
   "execution_count": 37,
   "metadata": {},
   "outputs": [],
   "source": [
    "proba = {k: v for k, v in sorted(proba.items(), key=lambda item: item[1])}"
   ]
  },
  {
   "cell_type": "code",
   "execution_count": 38,
   "metadata": {},
   "outputs": [],
   "source": [
    "lkey = list(proba.keys())"
   ]
  },
  {
   "cell_type": "code",
   "execution_count": 39,
   "metadata": {},
   "outputs": [
    {
     "data": {
      "text/plain": [
       "{19: 0.010865600866092392,\n",
       " 17: 0.016095056714939812,\n",
       " 18: 0.01869431317275416,\n",
       " 13: 0.020971291390796405,\n",
       " 5: 0.02209005016953431,\n",
       " 9: 0.022181890604642554,\n",
       " 10: 0.0225016439420073,\n",
       " 3: 0.02348938334613972,\n",
       " 24: 0.023691363996115423,\n",
       " 11: 0.024320913797734278,\n",
       " 22: 0.0266298971256606,\n",
       " 21: 0.027788540820836705,\n",
       " 20: 0.03131671549699552,\n",
       " 16: 0.03269328311599199,\n",
       " 4: 0.03447552498084667,\n",
       " 7: 0.04476705018754747,\n",
       " 1: 0.05318497092665844,\n",
       " 12: 0.05391960058026295,\n",
       " 2: 0.05409536171025172,\n",
       " 6: 0.05837921102502321,\n",
       " 0: 0.061421444423621394,\n",
       " 8: 0.06413490574677398,\n",
       " 23: 0.06492651096158784,\n",
       " 14: 0.0863714294746775,\n",
       " 15: 0.10099404542250733}"
      ]
     },
     "execution_count": 39,
     "metadata": {},
     "output_type": "execute_result"
    }
   ],
   "source": [
    "proba"
   ]
  },
  {
   "cell_type": "code",
   "execution_count": 40,
   "metadata": {},
   "outputs": [],
   "source": [
    "a = lkey[-1]"
   ]
  },
  {
   "cell_type": "code",
   "execution_count": 41,
   "metadata": {},
   "outputs": [],
   "source": [
    "b = lkey[-2]"
   ]
  },
  {
   "cell_type": "code",
   "execution_count": 42,
   "metadata": {},
   "outputs": [],
   "source": [
    "c = lkey[-3]"
   ]
  },
  {
   "cell_type": "code",
   "execution_count": 43,
   "metadata": {},
   "outputs": [
    {
     "name": "stdout",
     "output_type": "stream",
     "text": [
      "15 14 23\n"
     ]
    }
   ],
   "source": [
    "print(a,b,c)"
   ]
  },
  {
   "cell_type": "code",
   "execution_count": 44,
   "metadata": {},
   "outputs": [
    {
     "data": {
      "text/plain": [
       "'Software Engineer'"
      ]
     },
     "execution_count": 44,
     "metadata": {},
     "output_type": "execute_result"
    }
   ],
   "source": [
    "\n",
    "[new_k for new_k in dict_job.items() if new_k[1] == a][0][0]"
   ]
  },
  {
   "cell_type": "code",
   "execution_count": 45,
   "metadata": {},
   "outputs": [
    {
     "data": {
      "text/plain": [
       "'Health and fitness'"
      ]
     },
     "execution_count": 45,
     "metadata": {},
     "output_type": "execute_result"
    }
   ],
   "source": [
    "[new_k for new_k in dict_job.items() if new_k[1] == b][0][0]"
   ]
  },
  {
   "cell_type": "code",
   "execution_count": 46,
   "metadata": {},
   "outputs": [
    {
     "data": {
      "text/plain": [
       "'Testing'"
      ]
     },
     "execution_count": 46,
     "metadata": {},
     "output_type": "execute_result"
    }
   ],
   "source": [
    "[new_k for new_k in dict_job.items() if new_k[1] == c][0][0]"
   ]
  },
  {
   "cell_type": "code",
   "execution_count": null,
   "metadata": {},
   "outputs": [],
   "source": []
  }
 ],
 "metadata": {
  "kernelspec": {
   "display_name": "Python 3.7.13 ('pytorch')",
   "language": "python",
   "name": "python3"
  },
  "language_info": {
   "codemirror_mode": {
    "name": "ipython",
    "version": 3
   },
   "file_extension": ".py",
   "mimetype": "text/x-python",
   "name": "python",
   "nbconvert_exporter": "python",
   "pygments_lexer": "ipython3",
   "version": "3.7.13"
  },
  "orig_nbformat": 4,
  "vscode": {
   "interpreter": {
    "hash": "7a3f2c80ea66c24fd76a9a71a25558c52fee05a6e45793e0a26745819a7b6b51"
   }
  }
 },
 "nbformat": 4,
 "nbformat_minor": 2
}
